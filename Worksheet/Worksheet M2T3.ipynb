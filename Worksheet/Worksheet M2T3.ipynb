{
 "cells": [
  {
   "cell_type": "markdown",
   "metadata": {},
   "source": [
    "# Question 1"
   ]
  },
  {
   "cell_type": "markdown",
   "metadata": {},
   "source": [
    "For each variable (i.e. column) in the Adult dataset, classify it as numerical or categorical."
   ]
  },
  {
   "cell_type": "markdown",
   "metadata": {},
   "source": [
    "numerical variables: age, fnlwgt, education_num, capital_gain,capital_loss, hr_per_week,income\n",
    "\n",
    "\n",
    " categorical variables: type-employer, education, martial, occupation, relationship, race, sex, country"
   ]
  },
  {
   "cell_type": "markdown",
   "metadata": {},
   "source": [
    "# Question 2"
   ]
  },
  {
   "cell_type": "markdown",
   "metadata": {},
   "source": [
    "What are the sizes of the sub-dataframes made by separating by sex and income?"
   ]
  },
  {
   "cell_type": "markdown",
   "metadata": {},
   "source": [
    "See the M2_Adult notebook under the M2_Statistics folder"
   ]
  },
  {
   "cell_type": "markdown",
   "metadata": {},
   "source": [
    " sub-dataframes made by separating by sex: \n",
    " \n",
    " men: (21790, 15)\n",
    " \n",
    " women: (10771, 15)"
   ]
  },
  {
   "cell_type": "markdown",
   "metadata": {},
   "source": [
    "sub-dataframes made by separating by income:\n",
    "\n",
    "men_high_income: (6662, 15)\n",
    "\n",
    "women_high_income: (1179, 15)\n",
    "\n",
    "men_low_income: (15128, 15)\n",
    "\n",
    "women_low_income: (9592, 15)"
   ]
  }
 ],
 "metadata": {
  "kernelspec": {
   "display_name": "Python 2",
   "language": "python",
   "name": "python2"
  },
  "language_info": {
   "codemirror_mode": {
    "name": "ipython",
    "version": 2
   },
   "file_extension": ".py",
   "mimetype": "text/x-python",
   "name": "python",
   "nbconvert_exporter": "python",
   "pygments_lexer": "ipython2",
   "version": "2.7.16"
  }
 },
 "nbformat": 4,
 "nbformat_minor": 2
}
