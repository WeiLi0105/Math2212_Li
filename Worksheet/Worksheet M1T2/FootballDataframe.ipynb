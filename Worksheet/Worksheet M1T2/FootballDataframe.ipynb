{
 "cells": [
  {
   "cell_type": "code",
   "execution_count": null,
   "metadata": {},
   "outputs": [],
   "source": [
    "import  pandas  as pd2\n",
    "import  numpy  as np\n",
    "import  matplotlib.pyplot  as plt"
   ]
  },
  {
   "cell_type": "code",
   "execution_count": null,
   "metadata": {},
   "outputs": [],
   "source": [
    "data = {\n",
    "    ’year’ : [\n",
    "        2010 , 2011 , 2012 ,\n",
    "        2010 , 2011 , 2012 ,\n",
    "        2010 , 2011 , 20126\n",
    "    ],\n",
    "    ’team’ : [\n",
    "        ’FCBarcelona ’, ’FCBarcelona ’,\n",
    "        ’FCBarcelona ’, ’RMadrid ’,\n",
    "        ’RMadrid ’, ’RMadrid ’,\n",
    "        ’ValenciaCF ’, ’ValenciaCF ’,\n",
    "        ’ValenciaCF ’\n",
    "    ],\n",
    "    ’wins’ : [30, 28, 32, 29, 32, 26, 21, 17, 19],\n",
    "    ’draws’ : [6, 7, 4, 5, 4, 7, 8, 10, 8],\n",
    "    ’losses ’ : [2, 3, 2, 4, 2, 5, 9, 11, 11]17}\n",
    "football = pd.DataFrame(20data ,21columns = [’year’ , ’team’ , ’wins’ , ’draws ’ , ’losses ’])\n",
    "football"
   ]
  }
 ],
 "metadata": {
  "kernelspec": {
   "display_name": "Python 2",
   "language": "python",
   "name": "python2"
  },
  "language_info": {
   "codemirror_mode": {
    "name": "ipython",
    "version": 2
   },
   "file_extension": ".py",
   "mimetype": "text/x-python",
   "name": "python",
   "nbconvert_exporter": "python",
   "pygments_lexer": "ipython2",
   "version": "2.7.16"
  }
 },
 "nbformat": 4,
 "nbformat_minor": 2
}
