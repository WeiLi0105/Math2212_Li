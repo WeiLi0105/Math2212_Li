{
 "cells": [
  {
   "cell_type": "markdown",
   "metadata": {},
   "source": [
    "# Question 1\n",
    "\n",
    "see the M1_Eurostat notebook under the Eurostat folder"
   ]
  },
  {
   "cell_type": "markdown",
   "metadata": {},
   "source": [
    "A: Describe what each line does\n",
    "\n",
    "edu[4:15]: It slices the rows with all columns indexed from 4 to 15, but not including the last row;\n",
    "\n",
    "\n",
    "edu['Value']: It returns the whole \"Value\" column;\n",
    "\n",
    "\n",
    "edu[4:15]['Value']: It returns the row only with the \"Value\" column indexed from 4 to 15, but not including the last row;\n",
    "\n",
    "\n",
    "edu[4:15][['TIME','Value']]: It returns the row with the \"TIME\" and \"Value\"  columns indexed from 4 to 15, but not including the last row;\n",
    "\n"
   ]
  },
  {
   "cell_type": "markdown",
   "metadata": {},
   "source": [
    "B: What does the '#' do in that last line?\n",
    "\n",
    "It's used to explain what the code did (comment for read)."
   ]
  },
  {
   "cell_type": "markdown",
   "metadata": {},
   "source": [
    "# Question 2\n",
    "\n",
    "see the M1_Eurostat notebook under the Eurostat folder"
   ]
  },
  {
   "cell_type": "markdown",
   "metadata": {},
   "source": [
    "# Question  3\n",
    "see the M1_Eurostat notebook under the Eurostat folder"
   ]
  },
  {
   "cell_type": "markdown",
   "metadata": {},
   "source": [
    "How many rows have we added?  \n",
    "\n",
    "In \"edu_new_rows\" dataframe, we add three rows"
   ]
  },
  {
   "cell_type": "markdown",
   "metadata": {},
   "source": [
    "# Question 4\n",
    "\n",
    "see the M1_Eurostat notebook under the Eurostat folder"
   ]
  }
 ],
 "metadata": {
  "kernelspec": {
   "display_name": "Python 2",
   "language": "python",
   "name": "python2"
  },
  "language_info": {
   "codemirror_mode": {
    "name": "ipython",
    "version": 2
   },
   "file_extension": ".py",
   "mimetype": "text/x-python",
   "name": "python",
   "nbconvert_exporter": "python",
   "pygments_lexer": "ipython2",
   "version": "2.7.16"
  }
 },
 "nbformat": 4,
 "nbformat_minor": 2
}
