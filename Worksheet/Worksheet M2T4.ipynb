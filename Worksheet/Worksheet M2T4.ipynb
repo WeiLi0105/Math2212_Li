{
 "cells": [
  {
   "cell_type": "markdown",
   "metadata": {},
   "source": [
    "# Question 1\n",
    "\n",
    "What is the mean age of men, women, high income men, high income women\n",
    "\n",
    "See the M2_Adult notebook under the M2_Statistics folder"
   ]
  },
  {
   "cell_type": "markdown",
   "metadata": {},
   "source": [
    "men['age'].mean()\n",
    "\n",
    "women['age'].mean()\n",
    "\n",
    "men_high_income['age'].mean()\n",
    "\n",
    "women_high_income['age'].mean()"
   ]
  },
  {
   "cell_type": "markdown",
   "metadata": {},
   "source": [
    "# Question 2"
   ]
  },
  {
   "cell_type": "markdown",
   "metadata": {},
   "source": [
    "Compute the variance and standard deviation for the age of men, women, high income men, high income women"
   ]
  },
  {
   "cell_type": "markdown",
   "metadata": {},
   "source": [
    "See the M2_Adult notebook under the M2_Statistics folder"
   ]
  },
  {
   "cell_type": "markdown",
   "metadata": {},
   "source": [
    "# Question 3\n",
    "\n",
    "How can we make histograms print larger? "
   ]
  },
  {
   "cell_type": "markdown",
   "metadata": {},
   "source": [
    "By searching the histogram function, I found that we can make our histograms print larger by changing the size of bins using the parameter bins in histogram function  "
   ]
  },
  {
   "cell_type": "markdown",
   "metadata": {},
   "source": [
    "# Question 4"
   ]
  },
  {
   "cell_type": "markdown",
   "metadata": {},
   "source": [
    "Make a histogram for the numerical variables in each of the sub-dataframes that we created: men, women, high income men, high income women, low income men, low income women"
   ]
  },
  {
   "cell_type": "markdown",
   "metadata": {},
   "source": [
    "See the M2_Adult notebook under the M2_Statistics folder"
   ]
  },
  {
   "cell_type": "markdown",
   "metadata": {},
   "source": [
    "## Question 5"
   ]
  },
  {
   "cell_type": "markdown",
   "metadata": {},
   "source": [
    "Find the median ages of men, women, and high income men and women."
   ]
  },
  {
   "cell_type": "markdown",
   "metadata": {},
   "source": [
    "See the M2_Adult notebook under the M2_Statistics folder"
   ]
  },
  {
   "cell_type": "markdown",
   "metadata": {},
   "source": [
    "## Question 6"
   ]
  },
  {
   "cell_type": "markdown",
   "metadata": {},
   "source": [
    "What is another name for the 50th percentile? "
   ]
  },
  {
   "cell_type": "markdown",
   "metadata": {},
   "source": [
    "Median"
   ]
  },
  {
   "cell_type": "markdown",
   "metadata": {},
   "source": [
    "## Question 7\n",
    "\n",
    "Define a function using the def method that inputs a numerical variable and outputs its interquartile range. Use that to find the interquartile ranges for the age of men, women, high income men, and high income women."
   ]
  },
  {
   "cell_type": "markdown",
   "metadata": {},
   "source": [
    "See the M2_Adult notebook under the M2_Statistics folder"
   ]
  }
 ],
 "metadata": {
  "kernelspec": {
   "display_name": "Python 2",
   "language": "python",
   "name": "python2"
  },
  "language_info": {
   "codemirror_mode": {
    "name": "ipython",
    "version": 2
   },
   "file_extension": ".py",
   "mimetype": "text/x-python",
   "name": "python",
   "nbconvert_exporter": "python",
   "pygments_lexer": "ipython2",
   "version": "2.7.16"
  }
 },
 "nbformat": 4,
 "nbformat_minor": 2
}
