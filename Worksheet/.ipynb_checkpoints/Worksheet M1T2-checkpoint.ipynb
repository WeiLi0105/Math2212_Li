{
 "cells": [
  {
   "cell_type": "markdown",
   "metadata": {},
   "source": [
    "# Question 1\n",
    "\n",
    "See the FootballDataframe notebook under the worksheet folder"
   ]
  },
  {
   "cell_type": "markdown",
   "metadata": {},
   "source": [
    "A: What sort of delimiters are being used? \n",
    "    \n",
    "(1) Flower Bracket (2) Parentheses (3) Square Bracket \n",
    "\n",
    "B: How does the indentation help us read the code?\n",
    "    \n",
    "Seperate certain blocks\n",
    "\n",
    "C: Try to understand what each component is, e.g. what is 'data', 'year', 'team', etc.  What does the 'pd' mean?\n",
    "    \n",
    "'data' : dictinary series, 'year' : ordered information/year , 'team': ordered information / teams\n",
    "        \n",
    "'pd' means : short for pandas;\n",
    "\n",
    "Dataframe: a method to create a table "
   ]
  },
  {
   "cell_type": "markdown",
   "metadata": {},
   "source": [
    "# Question 2"
   ]
  },
  {
   "cell_type": "markdown",
   "metadata": {},
   "source": [
    "see the sandbox notebook under the Worksheet folder"
   ]
  },
  {
   "cell_type": "markdown",
   "metadata": {},
   "source": [
    "# Question 3\n",
    "\n",
    "see the M1_Eurostat notebook under the Eurostat folder"
   ]
  },
  {
   "cell_type": "markdown",
   "metadata": {},
   "source": [
    "In the code, what is edu and what is the pd in read_csv? \n",
    "    \n",
    "edu is an object to represent table\n",
    "\n",
    "pd is a Python-based data analysis tool; it has the method read_csv\n",
    "\n",
    "What does read_csv do?  \n",
    "\n",
    "Read the csv(comma-separated values) file into Dataframe; in this case the educ_figdp_Data.csv file.\n",
    "\n",
    "What do you think usecols does? \n",
    "\n",
    "Load specific columns into dataframe; Return a subset of the columns into dataframe\n",
    "\n",
    "What is this equal sign doing?\n",
    "\n",
    "equal sign is an assignment operator; it binds the variable name on the left to the content of right part."
   ]
  },
  {
   "cell_type": "markdown",
   "metadata": {},
   "source": [
    "# Question 4\n",
    "\n",
    "see the M1_Eurostat notebook under the Eurostat folder"
   ]
  },
  {
   "cell_type": "markdown",
   "metadata": {},
   "source": [
    "edu.head(): Return/print the first 5 rows.\n",
    "\n",
    "edu.tail(): Return/print the last 5 rows.\n",
    "\n",
    "edu.describe(): Generate descriptive statistics, such as mean, standard deviation, maximum, minimum, etc."
   ]
  },
  {
   "cell_type": "code",
   "execution_count": null,
   "metadata": {},
   "outputs": [],
   "source": []
  }
 ],
 "metadata": {
  "kernelspec": {
   "display_name": "Python 2",
   "language": "python",
   "name": "python2"
  },
  "language_info": {
   "codemirror_mode": {
    "name": "ipython",
    "version": 2
   },
   "file_extension": ".py",
   "mimetype": "text/x-python",
   "name": "python",
   "nbconvert_exporter": "python",
   "pygments_lexer": "ipython2",
   "version": "2.7.16"
  }
 },
 "nbformat": 4,
 "nbformat_minor": 2
}
