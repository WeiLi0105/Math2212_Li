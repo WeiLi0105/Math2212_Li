{
 "cells": [
  {
   "cell_type": "markdown",
   "metadata": {},
   "source": [
    "# Question 1"
   ]
  },
  {
   "cell_type": "markdown",
   "metadata": {},
   "source": [
    "See the M2_Adult notebook under the M2_Statistics folder"
   ]
  },
  {
   "cell_type": "markdown",
   "metadata": {},
   "source": [
    "# Question 2 "
   ]
  },
  {
   "cell_type": "markdown",
   "metadata": {},
   "source": [
    "What is the 'r' in the first line?  \n",
    "\n",
    "It means open the file in read mode."
   ]
  },
  {
   "cell_type": "markdown",
   "metadata": {},
   "source": [
    "What does the function chr_int do? \n",
    "\n",
    "The function is the method that used to read the numbers type data in the file. More specifically, the function tranfers the input character number data into integer type data.    "
   ]
  },
  {
   "cell_type": "markdown",
   "metadata": {},
   "source": [
    "What is the second part of the code doing?  Try compiling with the data1 == line.split(', ') line including and not including the space after the comma. What's the difference?\n",
    "\n",
    "The second part of the code is read the data from the file line by line. And then store the data into a array called data. \n",
    "\n",
    "With including the space after the comma, it will splits a string into a list when there is a comma with space. \n",
    "Without including the space after the comma, it will splits a string into a list when there is a comma. "
   ]
  },
  {
   "cell_type": "markdown",
   "metadata": {},
   "source": [
    "# Question 3"
   ]
  },
  {
   "cell_type": "markdown",
   "metadata": {},
   "source": [
    "What data structure should we use?   \n",
    "\n",
    "We should use Pandas.DataFrame structure contained into Pandas library. It is a two-dimensional, size-mutable structure, it seems like a spreadsheet but more powerful. "
   ]
  },
  {
   "cell_type": "markdown",
   "metadata": {},
   "source": [
    "How can we turn this data into that data structure?\n",
    "\n",
    "We can turn this data into the Pandas.DataFrame structure by importing Pandas library and using pd.DataFrame command."
   ]
  },
  {
   "cell_type": "markdown",
   "metadata": {},
   "source": [
    "# Question 4"
   ]
  },
  {
   "cell_type": "markdown",
   "metadata": {},
   "source": [
    "Here we're listing a bunch of column names. How does Python know how to relate these column names to the data provided?\n",
    "\n",
    "The column labels the DataFrame. Since our data already splited into list, then it will matched each list with the column names . Also, there are ordered data with index, then it will relate column names to the provided data."
   ]
  },
  {
   "cell_type": "markdown",
   "metadata": {},
   "source": [
    "# Question 5"
   ]
  },
  {
   "cell_type": "markdown",
   "metadata": {},
   "source": [
    "Print out the first few lines of the adult dataframe. Go to the pandas website documentation and read about the 'columns' parameter.  \n",
    "\n",
    "\n",
    "See the M2_Adult notebook under the M2_Statistics folder"
   ]
  },
  {
   "cell_type": "markdown",
   "metadata": {},
   "source": [
    "# Question 6"
   ]
  },
  {
   "cell_type": "markdown",
   "metadata": {},
   "source": [
    "Create the following dataframes: (1) men, (2) women (3) high income men (4) high income women (5) low income men (6) low income women"
   ]
  },
  {
   "cell_type": "markdown",
   "metadata": {},
   "source": [
    "See the M2_Adult notebook under the M2_Statistics folder"
   ]
  }
 ],
 "metadata": {
  "kernelspec": {
   "display_name": "Python 2",
   "language": "python",
   "name": "python2"
  },
  "language_info": {
   "codemirror_mode": {
    "name": "ipython",
    "version": 2
   },
   "file_extension": ".py",
   "mimetype": "text/x-python",
   "name": "python",
   "nbconvert_exporter": "python",
   "pygments_lexer": "ipython2",
   "version": "2.7.16"
  }
 },
 "nbformat": 4,
 "nbformat_minor": 2
}
