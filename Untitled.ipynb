{
 "cells": [
  {
   "cell_type": "code",
   "execution_count": 1,
   "metadata": {},
   "outputs": [],
   "source": [
    "import matplotlib.pyplot as plt\n",
    "import numpy as np\n",
    "import math"
   ]
  },
  {
   "cell_type": "code",
   "execution_count": 2,
   "metadata": {},
   "outputs": [],
   "source": [
    "class GBM:\n",
    "\n",
    "    def simulate(self):\n",
    "        while(self.total_time > 0):\n",
    "            dS = self.current_price*self.drift*self.time_period + self.current_price*self.volatility*np.random.normal(0, math.sqrt(self.time_period))\n",
    "            self.prices.append(self.current_price + dS)\n",
    "            self.current_price += dS\n",
    "            self.total_time -= self.time_period\n",
    "\n",
    "    def __init__(self, initial_price, drift, volatility, time_period, total_time):\n",
    "        # Initialize fields\n",
    "        self.initial_price = initial_price\n",
    "        self.current_price = initial_price\n",
    "        self.drift = drift\n",
    "        self.volatility = volatility\n",
    "        self.time_period = time_period\n",
    "        self.total_time = total_time\n",
    "        self.prices = []\n",
    "        # Simulate the diffusion process\n",
    "        self.simulate()   # Simulate the diffusion proces"
   ]
  },
  {
   "cell_type": "code",
   "execution_count": 3,
   "metadata": {},
   "outputs": [],
   "source": [
    "simulations = []\n",
    "n = 1000\n",
    "initial_price = 500\n",
    "drift = .24\n",
    "volatility = .4\n",
    "time_period = 1/365 # Daily\n",
    "total_time = 1"
   ]
  },
  {
   "cell_type": "code",
   "execution_count": null,
   "metadata": {},
   "outputs": [],
   "source": [
    "for i in range(0, n):\n",
    "    simulations.append(GBM(initial_price, drift, volatility, time_period, total_time))\n",
    "\n",
    "for sim in simulations:\n",
    "    plt.plot(np.arange(0, len(sim.prices)), sim.prices)"
   ]
  },
  {
   "cell_type": "code",
   "execution_count": null,
   "metadata": {},
   "outputs": [],
   "source": [
    "plt.show()"
   ]
  },
  {
   "cell_type": "code",
   "execution_count": null,
   "metadata": {},
   "outputs": [],
   "source": []
  }
 ],
 "metadata": {
  "kernelspec": {
   "display_name": "Python 2",
   "language": "python",
   "name": "python2"
  },
  "language_info": {
   "codemirror_mode": {
    "name": "ipython",
    "version": 2
   },
   "file_extension": ".py",
   "mimetype": "text/x-python",
   "name": "python",
   "nbconvert_exporter": "python",
   "pygments_lexer": "ipython2",
   "version": "2.7.16"
  }
 },
 "nbformat": 4,
 "nbformat_minor": 2
}
